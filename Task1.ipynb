{
 "cells": [
  {
   "cell_type": "code",
   "execution_count": 1,
   "id": "0378af54",
   "metadata": {},
   "outputs": [],
   "source": [
    "import pandas as pd\n",
    "import numpy as np"
   ]
  },
  {
   "cell_type": "code",
   "execution_count": 2,
   "id": "05ee6161",
   "metadata": {},
   "outputs": [],
   "source": [
    "df=pd.read_excel(\"sales_data.xlsx\")"
   ]
  },
  {
   "cell_type": "code",
   "execution_count": 3,
   "id": "a403c34f",
   "metadata": {},
   "outputs": [
    {
     "data": {
      "text/html": [
       "<div>\n",
       "<style scoped>\n",
       "    .dataframe tbody tr th:only-of-type {\n",
       "        vertical-align: middle;\n",
       "    }\n",
       "\n",
       "    .dataframe tbody tr th {\n",
       "        vertical-align: top;\n",
       "    }\n",
       "\n",
       "    .dataframe thead th {\n",
       "        text-align: right;\n",
       "    }\n",
       "</style>\n",
       "<table border=\"1\" class=\"dataframe\">\n",
       "  <thead>\n",
       "    <tr style=\"text-align: right;\">\n",
       "      <th></th>\n",
       "      <th>Order ID</th>\n",
       "      <th>Customer Name</th>\n",
       "      <th>Product Category</th>\n",
       "      <th>Product Name</th>\n",
       "      <th>Order Date</th>\n",
       "      <th>Delivered Date</th>\n",
       "      <th>Quantity</th>\n",
       "      <th>Unit Price</th>\n",
       "      <th>Status</th>\n",
       "      <th>Country</th>\n",
       "      <th>Payment Method</th>\n",
       "      <th>Unnamed: 11</th>\n",
       "      <th>Unnamed: 12</th>\n",
       "    </tr>\n",
       "  </thead>\n",
       "  <tbody>\n",
       "    <tr>\n",
       "      <th>0</th>\n",
       "      <td>1</td>\n",
       "      <td>Allison Hill</td>\n",
       "      <td>Electronics</td>\n",
       "      <td>Smartphone</td>\n",
       "      <td>45432</td>\n",
       "      <td>2024-05-24</td>\n",
       "      <td>4</td>\n",
       "      <td>238.0</td>\n",
       "      <td>Completed</td>\n",
       "      <td>Australia</td>\n",
       "      <td>Mobile Money</td>\n",
       "      <td>NaN</td>\n",
       "      <td>NaN</td>\n",
       "    </tr>\n",
       "    <tr>\n",
       "      <th>1</th>\n",
       "      <td>2</td>\n",
       "      <td>Lance Hoffman</td>\n",
       "      <td>Books</td>\n",
       "      <td>Fiction</td>\n",
       "      <td>45594</td>\n",
       "      <td>2024-11-04</td>\n",
       "      <td>7</td>\n",
       "      <td>42.0</td>\n",
       "      <td>Completed</td>\n",
       "      <td>Australia</td>\n",
       "      <td>Credit Card</td>\n",
       "      <td>NaN</td>\n",
       "      <td>NaN</td>\n",
       "    </tr>\n",
       "    <tr>\n",
       "      <th>2</th>\n",
       "      <td>3</td>\n",
       "      <td>Brent Abbott</td>\n",
       "      <td>Apparel</td>\n",
       "      <td>Sneakers</td>\n",
       "      <td>45593</td>\n",
       "      <td>2024-11-07</td>\n",
       "      <td>5</td>\n",
       "      <td>838.0</td>\n",
       "      <td>Completed</td>\n",
       "      <td>United Kingdom</td>\n",
       "      <td>Credit Card</td>\n",
       "      <td>NaN</td>\n",
       "      <td>NaN</td>\n",
       "    </tr>\n",
       "    <tr>\n",
       "      <th>3</th>\n",
       "      <td>4</td>\n",
       "      <td>Edward Fuller</td>\n",
       "      <td>Groceries</td>\n",
       "      <td>Cereal</td>\n",
       "      <td>45434</td>\n",
       "      <td>2024-05-27</td>\n",
       "      <td>3</td>\n",
       "      <td>230.0</td>\n",
       "      <td>Completed</td>\n",
       "      <td>United Kingdom</td>\n",
       "      <td>Credit Card</td>\n",
       "      <td>NaN</td>\n",
       "      <td>NaN</td>\n",
       "    </tr>\n",
       "    <tr>\n",
       "      <th>4</th>\n",
       "      <td>5</td>\n",
       "      <td>Melinda Jones</td>\n",
       "      <td>Electronics</td>\n",
       "      <td>Headphones</td>\n",
       "      <td>45566</td>\n",
       "      <td>2024-10-17</td>\n",
       "      <td>2</td>\n",
       "      <td>954.0</td>\n",
       "      <td>Returned</td>\n",
       "      <td>China</td>\n",
       "      <td>Cash</td>\n",
       "      <td>NaN</td>\n",
       "      <td>NaN</td>\n",
       "    </tr>\n",
       "    <tr>\n",
       "      <th>5</th>\n",
       "      <td>6</td>\n",
       "      <td>Andrew Stewart</td>\n",
       "      <td>Home Decor</td>\n",
       "      <td>Vase</td>\n",
       "      <td>45477</td>\n",
       "      <td>2024-07-10</td>\n",
       "      <td>10</td>\n",
       "      <td>206.0</td>\n",
       "      <td>Completed</td>\n",
       "      <td>Nigeria</td>\n",
       "      <td>Cash</td>\n",
       "      <td>NaN</td>\n",
       "      <td>NaN</td>\n",
       "    </tr>\n",
       "    <tr>\n",
       "      <th>6</th>\n",
       "      <td>7</td>\n",
       "      <td>Nicole Patterson</td>\n",
       "      <td>Groceries</td>\n",
       "      <td>Cereal</td>\n",
       "      <td>45375</td>\n",
       "      <td>2024-04-05</td>\n",
       "      <td>6</td>\n",
       "      <td>373.0</td>\n",
       "      <td>Returned</td>\n",
       "      <td>Australia</td>\n",
       "      <td>Cash</td>\n",
       "      <td>NaN</td>\n",
       "      <td>NaN</td>\n",
       "    </tr>\n",
       "    <tr>\n",
       "      <th>7</th>\n",
       "      <td>8</td>\n",
       "      <td>Anthony Rodriguez</td>\n",
       "      <td>Electronics</td>\n",
       "      <td>Camera</td>\n",
       "      <td>45617</td>\n",
       "      <td>2024-12-01</td>\n",
       "      <td>3</td>\n",
       "      <td>556.0</td>\n",
       "      <td>Completed</td>\n",
       "      <td>Nigeria</td>\n",
       "      <td>Credit Card</td>\n",
       "      <td>NaN</td>\n",
       "      <td>NaN</td>\n",
       "    </tr>\n",
       "    <tr>\n",
       "      <th>8</th>\n",
       "      <td>9</td>\n",
       "      <td>Shannon Smith</td>\n",
       "      <td>Groceries</td>\n",
       "      <td>Milk</td>\n",
       "      <td>45430</td>\n",
       "      <td>2024-05-22</td>\n",
       "      <td>9</td>\n",
       "      <td>234.0</td>\n",
       "      <td>Completed</td>\n",
       "      <td>Nigeria</td>\n",
       "      <td>Credit Card</td>\n",
       "      <td>NaN</td>\n",
       "      <td>NaN</td>\n",
       "    </tr>\n",
       "    <tr>\n",
       "      <th>9</th>\n",
       "      <td>10</td>\n",
       "      <td>Pamela Romero</td>\n",
       "      <td>Apparel</td>\n",
       "      <td>T-Shirt</td>\n",
       "      <td>45453</td>\n",
       "      <td>2024-06-25</td>\n",
       "      <td>7</td>\n",
       "      <td>284.0</td>\n",
       "      <td>Returned</td>\n",
       "      <td>Australia</td>\n",
       "      <td>Credit Card</td>\n",
       "      <td>NaN</td>\n",
       "      <td>NaN</td>\n",
       "    </tr>\n",
       "  </tbody>\n",
       "</table>\n",
       "</div>"
      ],
      "text/plain": [
       "   Order ID      Customer Name Product Category Product Name  Order Date  \\\n",
       "0         1       Allison Hill      Electronics   Smartphone       45432   \n",
       "1         2      Lance Hoffman            Books      Fiction       45594   \n",
       "2         3       Brent Abbott          Apparel     Sneakers       45593   \n",
       "3         4      Edward Fuller        Groceries       Cereal       45434   \n",
       "4         5      Melinda Jones      Electronics   Headphones       45566   \n",
       "5         6     Andrew Stewart       Home Decor         Vase       45477   \n",
       "6         7   Nicole Patterson        Groceries       Cereal       45375   \n",
       "7         8  Anthony Rodriguez      Electronics       Camera       45617   \n",
       "8         9      Shannon Smith        Groceries         Milk       45430   \n",
       "9        10      Pamela Romero          Apparel      T-Shirt       45453   \n",
       "\n",
       "  Delivered Date  Quantity  Unit Price     Status         Country  \\\n",
       "0     2024-05-24         4       238.0  Completed       Australia   \n",
       "1     2024-11-04         7        42.0  Completed       Australia   \n",
       "2     2024-11-07         5       838.0  Completed  United Kingdom   \n",
       "3     2024-05-27         3       230.0  Completed  United Kingdom   \n",
       "4     2024-10-17         2       954.0   Returned           China   \n",
       "5     2024-07-10        10       206.0  Completed         Nigeria   \n",
       "6     2024-04-05         6       373.0   Returned       Australia   \n",
       "7     2024-12-01         3       556.0  Completed         Nigeria   \n",
       "8     2024-05-22         9       234.0  Completed         Nigeria   \n",
       "9     2024-06-25         7       284.0   Returned       Australia   \n",
       "\n",
       "  Payment Method  Unnamed: 11 Unnamed: 12  \n",
       "0   Mobile Money          NaN         NaN  \n",
       "1    Credit Card          NaN         NaN  \n",
       "2    Credit Card          NaN         NaN  \n",
       "3    Credit Card          NaN         NaN  \n",
       "4           Cash          NaN         NaN  \n",
       "5           Cash          NaN         NaN  \n",
       "6           Cash          NaN         NaN  \n",
       "7    Credit Card          NaN         NaN  \n",
       "8    Credit Card          NaN         NaN  \n",
       "9    Credit Card          NaN         NaN  "
      ]
     },
     "execution_count": 3,
     "metadata": {},
     "output_type": "execute_result"
    }
   ],
   "source": [
    "df.head(10)"
   ]
  },
  {
   "cell_type": "code",
   "execution_count": 4,
   "id": "42138548",
   "metadata": {},
   "outputs": [
    {
     "data": {
      "text/html": [
       "<div>\n",
       "<style scoped>\n",
       "    .dataframe tbody tr th:only-of-type {\n",
       "        vertical-align: middle;\n",
       "    }\n",
       "\n",
       "    .dataframe tbody tr th {\n",
       "        vertical-align: top;\n",
       "    }\n",
       "\n",
       "    .dataframe thead th {\n",
       "        text-align: right;\n",
       "    }\n",
       "</style>\n",
       "<table border=\"1\" class=\"dataframe\">\n",
       "  <thead>\n",
       "    <tr style=\"text-align: right;\">\n",
       "      <th></th>\n",
       "      <th>Order ID</th>\n",
       "      <th>Customer Name</th>\n",
       "      <th>Product Category</th>\n",
       "      <th>Product Name</th>\n",
       "      <th>Order Date</th>\n",
       "      <th>Delivered Date</th>\n",
       "      <th>Quantity</th>\n",
       "      <th>Unit Price</th>\n",
       "      <th>Status</th>\n",
       "      <th>Country</th>\n",
       "      <th>Payment Method</th>\n",
       "      <th>Unnamed: 11</th>\n",
       "      <th>Unnamed: 12</th>\n",
       "    </tr>\n",
       "  </thead>\n",
       "  <tbody>\n",
       "    <tr>\n",
       "      <th>546</th>\n",
       "      <td>546</td>\n",
       "      <td>Donald Wilson</td>\n",
       "      <td>Apparel</td>\n",
       "      <td>Sneakers</td>\n",
       "      <td>45883</td>\n",
       "      <td>2025-08-16</td>\n",
       "      <td>7</td>\n",
       "      <td>70.0</td>\n",
       "      <td>Completed</td>\n",
       "      <td>United States</td>\n",
       "      <td>Bank Transfer</td>\n",
       "      <td>NaN</td>\n",
       "      <td>NaN</td>\n",
       "    </tr>\n",
       "    <tr>\n",
       "      <th>547</th>\n",
       "      <td>547</td>\n",
       "      <td>Jonathan Parks</td>\n",
       "      <td>Electronics</td>\n",
       "      <td>Camera</td>\n",
       "      <td>45919</td>\n",
       "      <td>2025-09-22</td>\n",
       "      <td>2</td>\n",
       "      <td>722.0</td>\n",
       "      <td>Completed</td>\n",
       "      <td>China</td>\n",
       "      <td>Bank Transfer</td>\n",
       "      <td>NaN</td>\n",
       "      <td>NaN</td>\n",
       "    </tr>\n",
       "    <tr>\n",
       "      <th>548</th>\n",
       "      <td>548</td>\n",
       "      <td>Ashley Freeman</td>\n",
       "      <td>Groceries</td>\n",
       "      <td>Juice</td>\n",
       "      <td>46002</td>\n",
       "      <td>2025-12-19</td>\n",
       "      <td>2</td>\n",
       "      <td>876.0</td>\n",
       "      <td>Returned</td>\n",
       "      <td>United States</td>\n",
       "      <td>Mobile Money</td>\n",
       "      <td>NaN</td>\n",
       "      <td>NaN</td>\n",
       "    </tr>\n",
       "    <tr>\n",
       "      <th>549</th>\n",
       "      <td>549</td>\n",
       "      <td>Kimberly Gibson</td>\n",
       "      <td>Apparel</td>\n",
       "      <td>Sneakers</td>\n",
       "      <td>45787</td>\n",
       "      <td>2025-05-17</td>\n",
       "      <td>8</td>\n",
       "      <td>281.0</td>\n",
       "      <td>Completed</td>\n",
       "      <td>Nigeria</td>\n",
       "      <td>Cash</td>\n",
       "      <td>NaN</td>\n",
       "      <td>NaN</td>\n",
       "    </tr>\n",
       "    <tr>\n",
       "      <th>550</th>\n",
       "      <td>550</td>\n",
       "      <td>Dawn Diaz</td>\n",
       "      <td>Electronics</td>\n",
       "      <td>Headphones</td>\n",
       "      <td>45757</td>\n",
       "      <td>2025-04-17</td>\n",
       "      <td>7</td>\n",
       "      <td>390.0</td>\n",
       "      <td>Returned</td>\n",
       "      <td>United States</td>\n",
       "      <td>Bank Transfer</td>\n",
       "      <td>NaN</td>\n",
       "      <td>NaN</td>\n",
       "    </tr>\n",
       "    <tr>\n",
       "      <th>551</th>\n",
       "      <td>551</td>\n",
       "      <td>Morgan Davenport</td>\n",
       "      <td>Home Decor</td>\n",
       "      <td>Table Lamp</td>\n",
       "      <td>45934</td>\n",
       "      <td>2025-10-10</td>\n",
       "      <td>5</td>\n",
       "      <td>953.0</td>\n",
       "      <td>Completed</td>\n",
       "      <td>United Kingdom</td>\n",
       "      <td>Cash</td>\n",
       "      <td>NaN</td>\n",
       "      <td>NaN</td>\n",
       "    </tr>\n",
       "    <tr>\n",
       "      <th>552</th>\n",
       "      <td>552</td>\n",
       "      <td>Theresa Hansen</td>\n",
       "      <td>Home Decor</td>\n",
       "      <td>Curtains</td>\n",
       "      <td>45666</td>\n",
       "      <td>2025-01-21</td>\n",
       "      <td>6</td>\n",
       "      <td>323.0</td>\n",
       "      <td>Returned</td>\n",
       "      <td>United States</td>\n",
       "      <td>Mobile Money</td>\n",
       "      <td>NaN</td>\n",
       "      <td>NaN</td>\n",
       "    </tr>\n",
       "    <tr>\n",
       "      <th>553</th>\n",
       "      <td>553</td>\n",
       "      <td>Krista Shea</td>\n",
       "      <td>Home Decor</td>\n",
       "      <td>Wall Art</td>\n",
       "      <td>45713</td>\n",
       "      <td>2025-03-01</td>\n",
       "      <td>3</td>\n",
       "      <td>380.0</td>\n",
       "      <td>Completed</td>\n",
       "      <td>United Kingdom</td>\n",
       "      <td>Bank Transfer</td>\n",
       "      <td>NaN</td>\n",
       "      <td>NaN</td>\n",
       "    </tr>\n",
       "    <tr>\n",
       "      <th>554</th>\n",
       "      <td>554</td>\n",
       "      <td>Rebecca Thompson</td>\n",
       "      <td>Books</td>\n",
       "      <td>Fiction</td>\n",
       "      <td>45897</td>\n",
       "      <td>2025-09-05</td>\n",
       "      <td>10</td>\n",
       "      <td>509.0</td>\n",
       "      <td>Returned</td>\n",
       "      <td>United States</td>\n",
       "      <td>Mobile Money</td>\n",
       "      <td>NaN</td>\n",
       "      <td>NaN</td>\n",
       "    </tr>\n",
       "    <tr>\n",
       "      <th>555</th>\n",
       "      <td>555</td>\n",
       "      <td>Donald Schultz</td>\n",
       "      <td>Groceries</td>\n",
       "      <td>Cereal</td>\n",
       "      <td>45743</td>\n",
       "      <td>2025-04-01</td>\n",
       "      <td>1</td>\n",
       "      <td>968.0</td>\n",
       "      <td>Completed</td>\n",
       "      <td>Nigeria</td>\n",
       "      <td>Cash</td>\n",
       "      <td>NaN</td>\n",
       "      <td>NaN</td>\n",
       "    </tr>\n",
       "  </tbody>\n",
       "</table>\n",
       "</div>"
      ],
      "text/plain": [
       "     Order ID     Customer Name Product Category Product Name  Order Date  \\\n",
       "546       546     Donald Wilson          Apparel     Sneakers       45883   \n",
       "547       547    Jonathan Parks      Electronics       Camera       45919   \n",
       "548       548    Ashley Freeman        Groceries        Juice       46002   \n",
       "549       549   Kimberly Gibson          Apparel     Sneakers       45787   \n",
       "550       550         Dawn Diaz      Electronics   Headphones       45757   \n",
       "551       551  Morgan Davenport       Home Decor   Table Lamp       45934   \n",
       "552       552    Theresa Hansen       Home Decor     Curtains       45666   \n",
       "553       553       Krista Shea       Home Decor     Wall Art       45713   \n",
       "554       554  Rebecca Thompson            Books      Fiction       45897   \n",
       "555       555    Donald Schultz        Groceries       Cereal       45743   \n",
       "\n",
       "    Delivered Date  Quantity  Unit Price     Status         Country  \\\n",
       "546     2025-08-16         7        70.0  Completed   United States   \n",
       "547     2025-09-22         2       722.0  Completed           China   \n",
       "548     2025-12-19         2       876.0   Returned   United States   \n",
       "549     2025-05-17         8       281.0  Completed         Nigeria   \n",
       "550     2025-04-17         7       390.0   Returned   United States   \n",
       "551     2025-10-10         5       953.0  Completed  United Kingdom   \n",
       "552     2025-01-21         6       323.0   Returned   United States   \n",
       "553     2025-03-01         3       380.0  Completed  United Kingdom   \n",
       "554     2025-09-05        10       509.0   Returned   United States   \n",
       "555     2025-04-01         1       968.0  Completed         Nigeria   \n",
       "\n",
       "    Payment Method  Unnamed: 11 Unnamed: 12  \n",
       "546  Bank Transfer          NaN         NaN  \n",
       "547  Bank Transfer          NaN         NaN  \n",
       "548   Mobile Money          NaN         NaN  \n",
       "549           Cash          NaN         NaN  \n",
       "550  Bank Transfer          NaN         NaN  \n",
       "551           Cash          NaN         NaN  \n",
       "552   Mobile Money          NaN         NaN  \n",
       "553  Bank Transfer          NaN         NaN  \n",
       "554   Mobile Money          NaN         NaN  \n",
       "555           Cash          NaN         NaN  "
      ]
     },
     "execution_count": 4,
     "metadata": {},
     "output_type": "execute_result"
    }
   ],
   "source": [
    "df.tail(10)"
   ]
  },
  {
   "cell_type": "code",
   "execution_count": 5,
   "id": "9201ded1",
   "metadata": {},
   "outputs": [
    {
     "name": "stdout",
     "output_type": "stream",
     "text": [
      "<class 'pandas.core.frame.DataFrame'>\n",
      "RangeIndex: 556 entries, 0 to 555\n",
      "Data columns (total 13 columns):\n",
      " #   Column            Non-Null Count  Dtype         \n",
      "---  ------            --------------  -----         \n",
      " 0   Order ID          556 non-null    int64         \n",
      " 1   Customer Name     556 non-null    object        \n",
      " 2   Product Category  556 non-null    object        \n",
      " 3   Product Name      556 non-null    object        \n",
      " 4   Order Date        556 non-null    int64         \n",
      " 5   Delivered Date    556 non-null    datetime64[ns]\n",
      " 6   Quantity          556 non-null    int64         \n",
      " 7   Unit Price        555 non-null    float64       \n",
      " 8   Status            556 non-null    object        \n",
      " 9   Country           556 non-null    object        \n",
      " 10  Payment Method    556 non-null    object        \n",
      " 11  Unnamed: 11       0 non-null      float64       \n",
      " 12  Unnamed: 12       1 non-null      object        \n",
      "dtypes: datetime64[ns](1), float64(2), int64(3), object(7)\n",
      "memory usage: 56.6+ KB\n"
     ]
    }
   ],
   "source": [
    "df.info()"
   ]
  },
  {
   "cell_type": "markdown",
   "id": "c354f543",
   "metadata": {},
   "source": [
    "# Drop Unwanted Columns"
   ]
  },
  {
   "cell_type": "code",
   "execution_count": 6,
   "id": "4b11165e",
   "metadata": {},
   "outputs": [],
   "source": [
    "df=df.drop(columns=[\"Unnamed: 11\",\"Unnamed: 12\"])"
   ]
  },
  {
   "cell_type": "code",
   "execution_count": 7,
   "id": "ab20cd62",
   "metadata": {},
   "outputs": [
    {
     "name": "stdout",
     "output_type": "stream",
     "text": [
      "<class 'pandas.core.frame.DataFrame'>\n",
      "RangeIndex: 556 entries, 0 to 555\n",
      "Data columns (total 11 columns):\n",
      " #   Column            Non-Null Count  Dtype         \n",
      "---  ------            --------------  -----         \n",
      " 0   Order ID          556 non-null    int64         \n",
      " 1   Customer Name     556 non-null    object        \n",
      " 2   Product Category  556 non-null    object        \n",
      " 3   Product Name      556 non-null    object        \n",
      " 4   Order Date        556 non-null    int64         \n",
      " 5   Delivered Date    556 non-null    datetime64[ns]\n",
      " 6   Quantity          556 non-null    int64         \n",
      " 7   Unit Price        555 non-null    float64       \n",
      " 8   Status            556 non-null    object        \n",
      " 9   Country           556 non-null    object        \n",
      " 10  Payment Method    556 non-null    object        \n",
      "dtypes: datetime64[ns](1), float64(1), int64(3), object(6)\n",
      "memory usage: 47.9+ KB\n"
     ]
    }
   ],
   "source": [
    "df.info()"
   ]
  },
  {
   "cell_type": "markdown",
   "id": "9628f971",
   "metadata": {},
   "source": [
    "Dropped unnecessary columns(Unnamed: 11 and Unnamed: 12) that were not relevant for analysis."
   ]
  },
  {
   "cell_type": "markdown",
   "id": "26c31b67",
   "metadata": {},
   "source": [
    "# Rename Column Headers "
   ]
  },
  {
   "cell_type": "code",
   "execution_count": 8,
   "id": "0dd03ae8",
   "metadata": {},
   "outputs": [
    {
     "data": {
      "text/plain": [
       "Index(['Order ID', 'Customer Name', 'Product Category', 'Product Name',\n",
       "       'Order Date', 'Delivered Date', 'Quantity', 'Unit Price', 'Status',\n",
       "       'Country', 'Payment Method'],\n",
       "      dtype='object')"
      ]
     },
     "execution_count": 8,
     "metadata": {},
     "output_type": "execute_result"
    }
   ],
   "source": [
    "df.columns"
   ]
  },
  {
   "cell_type": "code",
   "execution_count": 9,
   "id": "6610ad61",
   "metadata": {},
   "outputs": [],
   "source": [
    "df.columns=df.columns.str.strip().str.lower().str.replace(\" \",\"_\")"
   ]
  },
  {
   "cell_type": "code",
   "execution_count": 10,
   "id": "7c0b4390",
   "metadata": {},
   "outputs": [
    {
     "data": {
      "text/plain": [
       "Index(['order_id', 'customer_name', 'product_category', 'product_name',\n",
       "       'order_date', 'delivered_date', 'quantity', 'unit_price', 'status',\n",
       "       'country', 'payment_method'],\n",
       "      dtype='object')"
      ]
     },
     "execution_count": 10,
     "metadata": {},
     "output_type": "execute_result"
    }
   ],
   "source": [
    "df.columns"
   ]
  },
  {
   "cell_type": "markdown",
   "id": "dac4bdc3",
   "metadata": {},
   "source": [
    "Standardized column names by converting them to lowercase, stripping whitespace, and replacing spaces with underscores for consistency."
   ]
  },
  {
   "cell_type": "markdown",
   "id": "f434c12a",
   "metadata": {},
   "source": [
    "# Check and Fix Datatype for Columns"
   ]
  },
  {
   "cell_type": "code",
   "execution_count": 11,
   "id": "5a9fab1f",
   "metadata": {},
   "outputs": [
    {
     "data": {
      "text/plain": [
       "order_id                     int64\n",
       "customer_name               object\n",
       "product_category            object\n",
       "product_name                object\n",
       "order_date                   int64\n",
       "delivered_date      datetime64[ns]\n",
       "quantity                     int64\n",
       "unit_price                 float64\n",
       "status                      object\n",
       "country                     object\n",
       "payment_method              object\n",
       "dtype: object"
      ]
     },
     "execution_count": 11,
     "metadata": {},
     "output_type": "execute_result"
    }
   ],
   "source": [
    "df.dtypes"
   ]
  },
  {
   "cell_type": "code",
   "execution_count": 12,
   "id": "b6d79d72",
   "metadata": {},
   "outputs": [],
   "source": [
    "df[\"order_date\"]=pd.to_datetime(df[\"order_date\"])"
   ]
  },
  {
   "cell_type": "code",
   "execution_count": 13,
   "id": "fc21ed5f",
   "metadata": {},
   "outputs": [
    {
     "data": {
      "text/plain": [
       "order_id                     int64\n",
       "customer_name               object\n",
       "product_category            object\n",
       "product_name                object\n",
       "order_date          datetime64[ns]\n",
       "delivered_date      datetime64[ns]\n",
       "quantity                     int64\n",
       "unit_price                 float64\n",
       "status                      object\n",
       "country                     object\n",
       "payment_method              object\n",
       "dtype: object"
      ]
     },
     "execution_count": 13,
     "metadata": {},
     "output_type": "execute_result"
    }
   ],
   "source": [
    "df.dtypes"
   ]
  },
  {
   "cell_type": "markdown",
   "id": "7336fb66",
   "metadata": {},
   "source": [
    "Converted the order_date column to datetime format for proper time-based operations."
   ]
  },
  {
   "cell_type": "markdown",
   "id": "73d49c50",
   "metadata": {},
   "source": [
    "# Remove Duplicate Rows"
   ]
  },
  {
   "cell_type": "code",
   "execution_count": 14,
   "id": "09fb40d1",
   "metadata": {},
   "outputs": [
    {
     "name": "stdout",
     "output_type": "stream",
     "text": [
      "1\n"
     ]
    }
   ],
   "source": [
    "print(df.duplicated().sum())"
   ]
  },
  {
   "cell_type": "code",
   "execution_count": 15,
   "id": "047978ae",
   "metadata": {},
   "outputs": [
    {
     "name": "stdout",
     "output_type": "stream",
     "text": [
      "1\n"
     ]
    }
   ],
   "source": [
    "print(df[\"order_id\"].duplicated().sum())"
   ]
  },
  {
   "cell_type": "code",
   "execution_count": 16,
   "id": "6527253e",
   "metadata": {},
   "outputs": [],
   "source": [
    "df=df.drop_duplicates()"
   ]
  },
  {
   "cell_type": "markdown",
   "id": "b187ae42",
   "metadata": {},
   "source": [
    "Removed duplicates rows using drop_duplicates() and checked for duplicated order_ids."
   ]
  },
  {
   "cell_type": "markdown",
   "id": "cc270173",
   "metadata": {},
   "source": [
    "# Identify and Handle Missing Values"
   ]
  },
  {
   "cell_type": "code",
   "execution_count": 17,
   "id": "b91b0f85",
   "metadata": {},
   "outputs": [
    {
     "data": {
      "text/plain": [
       "order_id            0\n",
       "customer_name       0\n",
       "product_category    0\n",
       "product_name        0\n",
       "order_date          0\n",
       "delivered_date      0\n",
       "quantity            0\n",
       "unit_price          1\n",
       "status              0\n",
       "country             0\n",
       "payment_method      0\n",
       "dtype: int64"
      ]
     },
     "execution_count": 17,
     "metadata": {},
     "output_type": "execute_result"
    }
   ],
   "source": [
    "df.isnull().sum()"
   ]
  },
  {
   "cell_type": "code",
   "execution_count": 18,
   "id": "fdac5556",
   "metadata": {},
   "outputs": [
    {
     "name": "stdout",
     "output_type": "stream",
     "text": [
      "496.9530685920578\n"
     ]
    }
   ],
   "source": [
    "print(df[\"unit_price\"].mean())"
   ]
  },
  {
   "cell_type": "code",
   "execution_count": 19,
   "id": "1fa1cdcb",
   "metadata": {},
   "outputs": [],
   "source": [
    "df[\"unit_price\"]=df[\"unit_price\"].replace(np.nan,496.0)"
   ]
  },
  {
   "cell_type": "code",
   "execution_count": 20,
   "id": "5642a79b",
   "metadata": {},
   "outputs": [
    {
     "name": "stdout",
     "output_type": "stream",
     "text": [
      "496.9513513513514\n"
     ]
    }
   ],
   "source": [
    "print(df[\"unit_price\"].mean())"
   ]
  },
  {
   "cell_type": "markdown",
   "id": "f38dbce8",
   "metadata": {},
   "source": [
    "Handled missing values in the unit_price column by replacing NaN values with the column's mean(496.0)"
   ]
  },
  {
   "cell_type": "code",
   "execution_count": null,
   "id": "a39b04aa",
   "metadata": {},
   "outputs": [],
   "source": []
  }
 ],
 "metadata": {
  "kernelspec": {
   "display_name": "Python 3 (ipykernel)",
   "language": "python",
   "name": "python3"
  },
  "language_info": {
   "codemirror_mode": {
    "name": "ipython",
    "version": 3
   },
   "file_extension": ".py",
   "mimetype": "text/x-python",
   "name": "python",
   "nbconvert_exporter": "python",
   "pygments_lexer": "ipython3",
   "version": "3.9.7"
  }
 },
 "nbformat": 4,
 "nbformat_minor": 5
}
